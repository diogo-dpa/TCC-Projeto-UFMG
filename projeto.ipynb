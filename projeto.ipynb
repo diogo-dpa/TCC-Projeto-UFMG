{
 "cells": [
  {
   "cell_type": "code",
   "execution_count": 9,
   "metadata": {},
   "outputs": [],
   "source": [
    "# Importação das bibliotecas necessárias\n",
    "import numpy as np"
   ]
  },
  {
   "cell_type": "markdown",
   "metadata": {},
   "source": [
    "# 1. Lê o arquivo e pega as dimensões "
   ]
  },
  {
   "cell_type": "code",
   "execution_count": 5,
   "metadata": {},
   "outputs": [
    {
     "name": "stdout",
     "output_type": "stream",
     "text": [
      "Número de tasks:  10\n",
      "Número de máquinas:  5\n",
      "Dados\n",
      "[' 1 21 0 53 4 95 3 55 2 34', ' 0 21 3 52 4 16 2 26 1 71', ' 3 39 4 98 1 42 2 31 0 12', ' 1 77 0 55 4 79 2 66 3 77', ' 0 83 3 34 2 64 1 19 4 37', ' 1 54 2 43 4 79 0 92 3 62', ' 3 69 4 77 1 87 2 87 0 93', ' 2 38 0 60 1 41 3 24 4 83', ' 3 17 1 49 4 25 0 44 2 98', ' 4 77 3 79 2 43 1 75 0 96']\n",
      "10\n"
     ]
    }
   ],
   "source": [
    "with open('./instances/la01.txt') as file:\n",
    "    lines = file.read()\n",
    "\n",
    "dimensions = lines.split('\\n')[0]\n",
    "data = lines.split('\\n')[1:]\n",
    "\n",
    "tasks = dimensions.split()[0]\n",
    "machines = dimensions.split()[1]\n",
    "print('Número de tasks: ', tasks)\n",
    "print('Número de máquinas: ', machines)\n",
    "print('Dados')\n",
    "print(data)\n",
    "print(len(data))"
   ]
  },
  {
   "cell_type": "code",
   "execution_count": 75,
   "metadata": {},
   "outputs": [
    {
     "name": "stdout",
     "output_type": "stream",
     "text": [
      "Tarefa 1: [['1', '21'], ['0', '53'], ['4', '95'], ['3', '55'], ['2', '34']]\n",
      "Tarefa 2: [['0', '21'], ['3', '52'], ['4', '16'], ['2', '26'], ['1', '71']]\n",
      "Tarefa 3: [['3', '39'], ['4', '98'], ['1', '42'], ['2', '31'], ['0', '12']]\n",
      "Tarefa 4: [['1', '77'], ['0', '55'], ['4', '79'], ['2', '66'], ['3', '77']]\n",
      "Tarefa 5: [['0', '83'], ['3', '34'], ['2', '64'], ['1', '19'], ['4', '37']]\n",
      "Tarefa 6: [['1', '54'], ['2', '43'], ['4', '79'], ['0', '92'], ['3', '62']]\n",
      "Tarefa 7: [['3', '69'], ['4', '77'], ['1', '87'], ['2', '87'], ['0', '93']]\n",
      "Tarefa 8: [['2', '38'], ['0', '60'], ['1', '41'], ['3', '24'], ['4', '83']]\n",
      "Tarefa 9: [['3', '17'], ['1', '49'], ['4', '25'], ['0', '44'], ['2', '98']]\n",
      "Tarefa 10: [['4', '77'], ['3', '79'], ['2', '43'], ['1', '75'], ['0', '96']]\n",
      "\n",
      "Exemplo para facilitar o entendimento\n",
      "Tarefa 1: [['1', '21'], ['0', '53'], ['4', '95'], ['3', '55'], ['2', '34']]\n",
      "Tarefa 1 -> Operação 1,1: ['1', '21'] -> Máquina 1 com tempo 21\n",
      "Tarefa 2 -> Operação 1,2: ['0', '53'] -> Máquina 0 com tempo 53\n",
      "Tarefa 3 -> Operação 1,3: ['4', '95'] -> Máquina 4 com tempo 95\n",
      "Tarefa 4 -> Operação 1,4: ['3', '55'] -> Máquina 3 com tempo 55\n",
      "Tarefa 5 -> Operação 1,5: ['2', '34'] -> Máquina 2 com tempo 34\n"
     ]
    }
   ],
   "source": [
    "# Transformando os dados\n",
    "def juntaParMaquinaTempoExecução(vetor):\n",
    "    resultado = []\n",
    "    tamanho = len(vetor)\n",
    "    i = 0\n",
    "    while i < tamanho:\n",
    "        resultado.append([vetor[i],vetor[i+1]])\n",
    "        i = i + 2\n",
    "    return resultado\n",
    "\n",
    "# Converte o array em uma matriz\n",
    "dadosFormatados = []\n",
    "for item in data:\n",
    "    dadosFormatados.append(juntaParMaquinaTempoExecução(item.split()))\n",
    "\n",
    "# Printa para ver o resultado\n",
    "for i in range(0, len(dadosFormatados)):\n",
    "    print(\"Tarefa {}: {}\".format(i+1, dadosFormatados[i]))\n",
    "\n",
    "print(\"\")\n",
    "print(\"Exemplo para facilitar o entendimento\")\n",
    "print(\"Tarefa {}: {}\".format(1, dadosFormatados[0]))\n",
    "for i in range(0, len(dadosFormatados[0])):\n",
    "    print(\"Tarefa {} -> Operação 1,{}: {} -> Máquina {} com tempo {}\".format(i+1, i+1, dadosFormatados[0][i], dadosFormatados[0][i][0], dadosFormatados[0][i][1]))\n"
   ]
  },
  {
   "cell_type": "code",
   "execution_count": 40,
   "metadata": {},
   "outputs": [
    {
     "data": {
      "text/plain": [
       "'2'"
      ]
     },
     "execution_count": 40,
     "metadata": {},
     "output_type": "execute_result"
    }
   ],
   "source": [
    "# Dados mockados para teste\n",
    "posicaoCandidataTeste = [['1','1'], ['3', '1'], ['2', '1'], ['3', '2'], ['1', '2'], ['2', '2'], ['3', '3'], ['2', '3'], ['1', '3']]\n",
    "matrizOperacoesTempoTeste = [[['1', '2'], ['2', '3'], ['3', '1']], [['2', '3'], ['1', '1'], ['3', '2']], [['2', '2'], ['3', '3'], ['1', '2']]]\n"
   ]
  },
  {
   "cell_type": "code",
   "execution_count": 74,
   "metadata": {},
   "outputs": [
    {
     "name": "stdout",
     "output_type": "stream",
     "text": [
      "['1', '1']\n",
      "vetorTempoMaquinasEmExecucao: [2. 0. 0.]\n",
      "\n",
      "['3', '1']\n",
      "vetorTempoMaquinasEmExecucao: [2. 2. 0.]\n",
      "\n",
      "['2', '1']\n",
      "vetorTempoMaquinasEmExecucao: [2. 5. 0.]\n",
      "\n",
      "['3', '2']\n",
      "vetorTempoMaquinasEmExecucao: [2. 5. 5.]\n",
      "\n",
      "['1', '2']\n",
      "vetorTempoMaquinasEmExecucao: [2. 8. 5.]\n",
      "\n",
      "['2', '2']\n",
      "vetorTempoMaquinasEmExecucao: [6. 8. 5.]\n",
      "\n",
      "['3', '3']\n",
      "vetorTempoMaquinasEmExecucao: [8. 8. 5.]\n",
      "\n",
      "['2', '3']\n",
      "vetorTempoMaquinasEmExecucao: [8. 8. 8.]\n",
      "\n",
      "['1', '3']\n",
      "vetorTempoMaquinasEmExecucao: [8. 8. 9.]\n",
      "\n"
     ]
    },
    {
     "data": {
      "text/plain": [
       "[9.0, 3]"
      ]
     },
     "execution_count": 74,
     "metadata": {},
     "output_type": "execute_result"
    }
   ],
   "source": [
    "# Função de aptidão\n",
    "def funcaoAptidao(posicaoCandidata, matrizOperacoesTempo, numeroMaquinas, numeroTarefas):\n",
    "    vetorTempoMaquinasEmExecucao = np.zeros(numeroMaquinas)\n",
    "    vetorTarefasEmExecucao = np.zeros(numeroTarefas)\n",
    "    # i[0] -> TAREFA\n",
    "    # i[1] -> OPERACAO\n",
    "    for i in posicaoCandidata:\n",
    "        print(i)\n",
    "        maquina = int(matrizOperacoesTempo[int(i[0]) - 1 ][int(i[1]) - 1][0])\n",
    "        tempoMaquina = int(matrizOperacoesTempo[int(i[0]) - 1][int(i[1]) - 1][1])\n",
    "        tempoAtualAuxiliar = max(vetorTempoMaquinasEmExecucao[maquina - 1], vetorTarefasEmExecucao[int(i[0]) - 1])\n",
    "        vetorTempoMaquinasEmExecucao[maquina - 1] = tempoAtualAuxiliar + tempoMaquina\n",
    "        vetorTarefasEmExecucao[int(i[0]) - 1] = max(vetorTempoMaquinasEmExecucao[maquina - 1], vetorTarefasEmExecucao[int(i[0]) - 1])\n",
    "        print(\"vetorTempoMaquinasEmExecucao: {}\".format(vetorTempoMaquinasEmExecucao))\n",
    "        print(\"\")\n",
    "    return [max(vetorTempoMaquinasEmExecucao), np.argmax(vetorTempoMaquinasEmExecucao) + 1]\n",
    "\n",
    "funcaoAptidao(posicaoCandidataTeste, matrizOperacoesTempoTeste, 3, 3)"
   ]
  },
  {
   "cell_type": "markdown",
   "metadata": {},
   "source": []
  }
 ],
 "metadata": {
  "interpreter": {
   "hash": "2151bf39a3858786866e37ebb41b7aee912f22b9b75592b06ecf541da4867318"
  },
  "kernelspec": {
   "display_name": "Python 3.9.7 64-bit",
   "name": "python3"
  },
  "language_info": {
   "codemirror_mode": {
    "name": "ipython",
    "version": 3
   },
   "file_extension": ".py",
   "mimetype": "text/x-python",
   "name": "python",
   "nbconvert_exporter": "python",
   "pygments_lexer": "ipython3",
   "version": "3.9.7"
  },
  "orig_nbformat": 4
 },
 "nbformat": 4,
 "nbformat_minor": 2
}
