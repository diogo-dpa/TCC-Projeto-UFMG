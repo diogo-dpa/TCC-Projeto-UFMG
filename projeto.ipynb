{
 "cells": [
  {
   "cell_type": "code",
   "execution_count": 1,
   "metadata": {},
   "outputs": [],
   "source": [
    "# Importação das bibliotecas necessárias\n",
    "import numpy as np"
   ]
  },
  {
   "cell_type": "markdown",
   "metadata": {},
   "source": [
    "# 1. Lê o arquivo e pega as dimensões "
   ]
  },
  {
   "cell_type": "code",
   "execution_count": 2,
   "metadata": {},
   "outputs": [],
   "source": [
    "# Transformando os dados\n",
    "def juntaParMaquinaTempoExecução(vetor):\n",
    "    resultado = []\n",
    "    tamanho = len(vetor)\n",
    "    i = 0\n",
    "    while i < tamanho:\n",
    "        resultado.append([vetor[i],vetor[i+1]])\n",
    "        i = i + 2\n",
    "    return resultado\n",
    "\n",
    "def converteArrayEmMatriz(data):\n",
    "    # Converte o array em uma matriz\n",
    "    dadosFormatados = []\n",
    "    for item in data:\n",
    "        dadosFormatados.append(juntaParMaquinaTempoExecução(item.split()))\n",
    "    return dadosFormatados"
   ]
  },
  {
   "cell_type": "code",
   "execution_count": 51,
   "metadata": {},
   "outputs": [],
   "source": [
    "# Função de aptidão\n",
    "def funcaoAptidao(posicaoCandidata, matrizOperacoesTempo):\n",
    "    \"\"\"\n",
    "        Função para avaliar o desempenho do algoritmo\n",
    "            Parâmetros:\n",
    "                - posicaoCandidata: Vetor de N tarefas x M máquinas. Exemplo: [O11, 021,..]\n",
    "                - matrizOperacoesTempo: Matriz N tarefas x M máquinas, onde cada posição é um array contendo a Máquina e seu Tempo. Exemplo: [['1', '20'], ['0', '15'],..]\n",
    "    \"\"\"\n",
    "    numeroTarefas = len(matrizOperacoesTempo)\n",
    "    numeroMaquinas = len(matrizOperacoesTempo[0])\n",
    "    vetorTempoMaquinasEmExecucao = np.zeros(numeroMaquinas)\n",
    "    vetorTarefasEmExecucao = np.zeros(numeroTarefas)\n",
    "    # i[0] -> TAREFA\n",
    "    # i[1] -> OPERACAO\n",
    "    for i in posicaoCandidata:\n",
    "        # print(i[0])\n",
    "        # print(i[1])\n",
    "        # print(matrizOperacoesTempo[int(i[0]) - 1 ][int(i[1]) - 1])\n",
    "        maquina = int(matrizOperacoesTempo[int(i[0]) - 1 ][int(i[1]) - 1][0])\n",
    "        tempoMaquina = int(matrizOperacoesTempo[int(i[0]) - 1][int(i[1]) - 1][1])\n",
    "        tempoAtualAuxiliar = max(vetorTempoMaquinasEmExecucao[maquina - 1], vetorTarefasEmExecucao[int(i[0]) - 1])\n",
    "        vetorTempoMaquinasEmExecucao[maquina - 1] = tempoAtualAuxiliar + tempoMaquina\n",
    "        vetorTarefasEmExecucao[int(i[0]) - 1] = max(vetorTempoMaquinasEmExecucao[maquina - 1], vetorTarefasEmExecucao[int(i[0]) - 1])\n",
    "    return [max(vetorTempoMaquinasEmExecucao), np.argmax(vetorTempoMaquinasEmExecucao) + 1]"
   ]
  },
  {
   "cell_type": "markdown",
   "metadata": {},
   "source": []
  },
  {
   "cell_type": "code",
   "execution_count": null,
   "metadata": {},
   "outputs": [],
   "source": [
    "resultado = [50, 18, 3, 20, 49, 15, 42, 7, 24, 30, 9, 27, 1, 44, 34, 8, 2, 41, 37, 16, 21, 32, 46, 25, 38, 26, 43, 40, 12, 28, 35, 36, 47, 11, 22, 17, 13, 48, 6, 23, 10, 5, 45, 39, 19, 29, 14, 4, 31, 33]\n",
    "[['6', '1'], ['2', '1'], ['1', '1'], ['3', '1'], ['5', '1'], ['2', '2'], ['5', '2'], ['1', '2'], ['3', '2'], ['4', '1'], ['1', '3'], ['3', '3'], ['1', '4'], ['5', '3'], ['4', '2'], ['1', '5'], ['1', '6']]"
   ]
  },
  {
   "cell_type": "code",
   "execution_count": 139,
   "metadata": {},
   "outputs": [
    {
     "data": {
      "text/plain": [
       "9.0"
      ]
     },
     "execution_count": 139,
     "metadata": {},
     "output_type": "execute_result"
    }
   ],
   "source": [
    "np.floor(49/5)"
   ]
  },
  {
   "cell_type": "code",
   "execution_count": 52,
   "metadata": {},
   "outputs": [],
   "source": [
    "# Função de decoding\n",
    "def decodingValoresReaisParaOperacoes(vetorValoresReais, numeroTarefas, numeroMaquinas):\n",
    "    \"\"\"\n",
    "        Função para decodificar um array de valores reais em operações\n",
    "            Parâmetros:\n",
    "                - vetorValoresReais: Vetor com valores reais de dimensão N tarefas x M máquinas. Exemplo: [0.98, 0.11,..]\n",
    "                - numeroTarefas: Número de tarefas do problema. \n",
    "                - numeroMaquinas: Número de máquinas do problema. \n",
    "    \"\"\"\n",
    "    # print(vetorValoresReais)\n",
    "    vetorAuxiliarOrdenado = vetorValoresReais.copy()\n",
    "    vetorAuxiliarOrdenado.sort()\n",
    "    resultado = []\n",
    "    matrizOperacoes = []\n",
    "    for item in vetorValoresReais:\n",
    "        resultado.append(list(vetorAuxiliarOrdenado).index(item) + 1)\n",
    "    # print('resultado: {}'.format(resultado))\n",
    "    countAux = np.ones(numeroTarefas)\n",
    "    for item in resultado:\n",
    "        contaArredondada = round((np.floor((item-1)/ numeroMaquinas)))\n",
    "        matrizOperacoes.append([str(contaArredondada + 1), str(round(countAux[contaArredondada]))])\n",
    "        countAux[contaArredondada] += 1\n",
    "    return matrizOperacoes"
   ]
  },
  {
   "cell_type": "code",
   "execution_count": 5,
   "metadata": {},
   "outputs": [],
   "source": [
    "# Função VND - Shift\n",
    "def VND_shift(posicaoCandidata):\n",
    "    \"\"\"\n",
    "        VND com estrutura de vizinhança Shift (Realoca a posição de uma operação numa mesma máquina)\n",
    "            Parâmetros:\n",
    "                - posicaoCandidata: Vetor com valores reais de dimensão N tarefas x M máquinas. Exemplo: [0.98, 0.11,..]\n",
    "    \"\"\"\n",
    "    # print(posicaoCandidata)\n",
    "    copiaPosicaoCandidata = posicaoCandidata.copy()\n",
    "    [posicaoElementoASerDeslocado, posicaoFutura] = np.random.randint(1, len(copiaPosicaoCandidata), 2)\n",
    "    # print(posicaoElementoASerDeslocado)\n",
    "    # print(posicaoFutura)\n",
    "    elementoASerDeslocado = copiaPosicaoCandidata[posicaoElementoASerDeslocado]\n",
    "    del(copiaPosicaoCandidata[posicaoElementoASerDeslocado])\n",
    "    primeiraParteVetor = copiaPosicaoCandidata[:posicaoFutura]\n",
    "    segundaParteVetor = copiaPosicaoCandidata[posicaoFutura:]\n",
    "    return primeiraParteVetor + [elementoASerDeslocado] + segundaParteVetor\n",
    "    \n",
    "# Função VND - Switch\n",
    "def VND_switch(posicaoCandidata):\n",
    "    \"\"\"\n",
    "        VND com estrutura de vizinhança Switch (Troca a posição de duas operações numa mesma máquina)\n",
    "            Parâmetros:\n",
    "                - posicaoCandidata: Vetor com valores reais de dimensão N tarefas x M máquinas. Exemplo: [0.98, 0.11,..]\n",
    "    \"\"\"\n",
    "    # print(posicaoCandidata)\n",
    "    copiaPosicaoCandidata = posicaoCandidata.copy()\n",
    "    [primeiraPosicao, segundaPosicao] = np.random.randint(1, len(copiaPosicaoCandidata), 2)\n",
    "    # print(primeiraPosicao)\n",
    "    # print(segundaPosicao)\n",
    "    primeiroElemento = copiaPosicaoCandidata[primeiraPosicao]\n",
    "    copiaPosicaoCandidata[primeiraPosicao] = copiaPosicaoCandidata[segundaPosicao]\n",
    "    copiaPosicaoCandidata[segundaPosicao] = primeiroElemento\n",
    "    return copiaPosicaoCandidata\n",
    "\n",
    "# print('VND Switch')\n",
    "# print(VND_switch(posicaoCandidataComValoresReais))\n",
    "\n",
    "# print('')\n",
    "# print('VND Shift')\n",
    "# print(VND_shift(posicaoCandidataComValoresReais))"
   ]
  },
  {
   "cell_type": "code",
   "execution_count": 6,
   "metadata": {},
   "outputs": [],
   "source": [
    "def particleSwarmOptimizationMethod(positionVector, velocityVector, bestPersonal, bestGlobal, c1, c2, w):\n",
    "    \"\"\"\n",
    "        Particle Swarm Optimization Method\n",
    "            Parameters:\n",
    "            - positionVector: Array that contains real values with D positions\n",
    "            - velocityVector: Array that contains real values with D positions\n",
    "            - bestPersonal: Real values array from the best personal position evaluated\n",
    "            - globalPersonal: Real values array from the global personal position evaluated\n",
    "            - c1: Constant\n",
    "            - c2: Constant\n",
    "            - w: Constant\n",
    "    \"\"\"\n",
    "    personalFunction = c1 * np.random.rand() * (bestPersonal - positionVector)\n",
    "    globalFunction = c2 * np.random.rand() * (bestGlobal - positionVector)\n",
    "    nextVelocityVector = w * velocityVector + personalFunction + globalFunction\n",
    "    nextPositionVector = positionVector + nextVelocityVector\n",
    "    return [nextPositionVector, nextVelocityVector]"
   ]
  },
  {
   "cell_type": "code",
   "execution_count": 7,
   "metadata": {},
   "outputs": [
    {
     "name": "stdout",
     "output_type": "stream",
     "text": [
      "Número de tasks:  10\n",
      "Número de máquinas:  5\n"
     ]
    }
   ],
   "source": [
    "with open('./instances/la01.txt') as file:\n",
    "    lines = file.read()\n",
    "\n",
    "dimensions = lines.split('\\n')[0]\n",
    "data = lines.split('\\n')[1:]\n",
    "\n",
    "tasks = int(dimensions.split()[0])\n",
    "machines = int(dimensions.split()[1])\n",
    "print('Número de tasks: ', tasks)\n",
    "print('Número de máquinas: ', machines)"
   ]
  },
  {
   "cell_type": "code",
   "execution_count": 8,
   "metadata": {},
   "outputs": [
    {
     "name": "stdout",
     "output_type": "stream",
     "text": [
      "[[['1', '21'], ['0', '53'], ['4', '95'], ['3', '55'], ['2', '34']], [['0', '21'], ['3', '52'], ['4', '16'], ['2', '26'], ['1', '71']], [['3', '39'], ['4', '98'], ['1', '42'], ['2', '31'], ['0', '12']], [['1', '77'], ['0', '55'], ['4', '79'], ['2', '66'], ['3', '77']], [['0', '83'], ['3', '34'], ['2', '64'], ['1', '19'], ['4', '37']], [['1', '54'], ['2', '43'], ['4', '79'], ['0', '92'], ['3', '62']], [['3', '69'], ['4', '77'], ['1', '87'], ['2', '87'], ['0', '93']], [['2', '38'], ['0', '60'], ['1', '41'], ['3', '24'], ['4', '83']], [['3', '17'], ['1', '49'], ['4', '25'], ['0', '44'], ['2', '98']], [['4', '77'], ['3', '79'], ['2', '43'], ['1', '75'], ['0', '96']]]\n",
      "Tarefa 1: [['1', '21'], ['0', '53'], ['4', '95'], ['3', '55'], ['2', '34']]\n",
      "Tarefa 2: [['0', '21'], ['3', '52'], ['4', '16'], ['2', '26'], ['1', '71']]\n",
      "Tarefa 3: [['3', '39'], ['4', '98'], ['1', '42'], ['2', '31'], ['0', '12']]\n",
      "Tarefa 4: [['1', '77'], ['0', '55'], ['4', '79'], ['2', '66'], ['3', '77']]\n",
      "Tarefa 5: [['0', '83'], ['3', '34'], ['2', '64'], ['1', '19'], ['4', '37']]\n",
      "Tarefa 6: [['1', '54'], ['2', '43'], ['4', '79'], ['0', '92'], ['3', '62']]\n",
      "Tarefa 7: [['3', '69'], ['4', '77'], ['1', '87'], ['2', '87'], ['0', '93']]\n",
      "Tarefa 8: [['2', '38'], ['0', '60'], ['1', '41'], ['3', '24'], ['4', '83']]\n",
      "Tarefa 9: [['3', '17'], ['1', '49'], ['4', '25'], ['0', '44'], ['2', '98']]\n",
      "Tarefa 10: [['4', '77'], ['3', '79'], ['2', '43'], ['1', '75'], ['0', '96']]\n",
      "\n",
      "Exemplo para facilitar o entendimento\n",
      "Tarefa 1: [['1', '21'], ['0', '53'], ['4', '95'], ['3', '55'], ['2', '34']]\n",
      "Tarefa 1 -> Operação 1,1: ['1', '21'] -> Máquina 1 com tempo 21\n",
      "Tarefa 2 -> Operação 1,2: ['0', '53'] -> Máquina 0 com tempo 53\n",
      "Tarefa 3 -> Operação 1,3: ['4', '95'] -> Máquina 4 com tempo 95\n",
      "Tarefa 4 -> Operação 1,4: ['3', '55'] -> Máquina 3 com tempo 55\n",
      "Tarefa 5 -> Operação 1,5: ['2', '34'] -> Máquina 2 com tempo 34\n"
     ]
    }
   ],
   "source": [
    "# Format data and print\n",
    "dadosFormatados = converteArrayEmMatriz(data)\n",
    "print(dadosFormatados)\n",
    "\n",
    "# Printa para ver o resultado\n",
    "for i in range(0, len(dadosFormatados)):\n",
    "    print(\"Tarefa {}: {}\".format(i+1, dadosFormatados[i]))\n",
    "\n",
    "print(\"\")\n",
    "print(\"Exemplo para facilitar o entendimento\")\n",
    "print(\"Tarefa {}: {}\".format(1, dadosFormatados[0]))\n",
    "for i in range(0, len(dadosFormatados[0])):\n",
    "    print(\"Tarefa {} -> Operação 1,{}: {} -> Máquina {} com tempo {}\".format(i+1, i+1, dadosFormatados[0][i], dadosFormatados[0][i][0], dadosFormatados[0][i][1]))"
   ]
  },
  {
   "cell_type": "code",
   "execution_count": 115,
   "metadata": {},
   "outputs": [],
   "source": [
    "# Dados mockados para teste\n",
    "posicaoCandidataTeste = [['1','1'], ['3', '1'], ['2', '1'], ['3', '2'], ['1', '2'], ['2', '2'], ['3', '3'], ['2', '3'], ['1', '3']]\n",
    "matrizOperacoesTempoTeste = [[['1', '2'], ['2', '3'], ['3', '1']], [['2', '3'], ['1', '1'], ['3', '2']], [['2', '2'], ['3', '3'], ['1', '2']]]\n",
    "\n",
    "# Dados mockados para decoding\n",
    "posicaoCandidataComValoresReais = [0.13, 0.75, 0.48, 0.57, 0.21, 0.37, 0.96, 0.42, 0.06]"
   ]
  },
  {
   "cell_type": "code",
   "execution_count": 32,
   "metadata": {},
   "outputs": [],
   "source": [
    "# Mock de dados para Teste PSO\n",
    "numberOfParticles = 10\n",
    "dimension = tasks*machines\n",
    "c1 = 1\n",
    "c2 = 1\n",
    "w = 1\n",
    "\n",
    "candidatePositionMatrix = np.zeros((numberOfParticles, dimension))\n",
    "candidateVelocityMatrix = np.zeros((numberOfParticles, dimension))\n",
    "for i in range(0, numberOfParticles):\n",
    "    candidatePositionMatrix[i] = np.random.rand(dimension)\n",
    "    candidateVelocityMatrix[i] = np.random.randn(dimension)\n",
    "\n",
    "# print('Vetor Posicao Inicial {} x {}'.format(N, D))\n",
    "# print(candidatePositionMatrix)\n",
    "# print('')\n",
    "# print('Vetor Velocidade Inicial {} x {}'.format(N, D))\n",
    "# print(candidateVelocityMatrix)"
   ]
  },
  {
   "cell_type": "code",
   "execution_count": 56,
   "metadata": {},
   "outputs": [],
   "source": [
    "# Number of iterations\n",
    "iterations = 10\n",
    "\n",
    "# Set  \n",
    "positionMatrixAux = candidatePositionMatrix\n",
    "velocityMatrixAux = candidateVelocityMatrix\n",
    "\n",
    "# Initialize vectors\n",
    "bestPersonalPositionVector = np.zeros((numberOfParticles, dimension))\n",
    "bestPersonalEvaluatedValue = np.zeros((numberOfParticles, dimension))\n",
    "\n",
    "# Set initial values of vectors\n",
    "for i in range(0, numberOfParticles):\n",
    "    bestPersonalPositionVector[i] = candidatePositionMatrix[i]\n",
    "    # print(bestPersonalPositionVector[i])\n",
    "    decodedArray = decodingValoresReaisParaOperacoes(bestPersonalPositionVector[i], tasks, machines)\n",
    "    # print(decodedArray)\n",
    "    bestPersonalEvaluatedValue[i] = funcaoAptidao(decodedArray, dadosFormatados)[0]\n",
    "\n",
    "# Find the best fitness value (the smallest value)\n",
    "indexOfBetterFitness = np.argmin(bestPersonalEvaluatedValue)\n",
    "valueBetterFitness = np.min(bestPersonalEvaluatedValue)\n",
    "# print(bestPersonalEvaluatedValue)\n",
    "# print(valueBetterFitness)\n",
    "bestGlobalPositionVector = candidatePositionMatrix[round(indexOfBetterFitness/50)]\n"
   ]
  },
  {
   "cell_type": "code",
   "execution_count": 57,
   "metadata": {},
   "outputs": [
    {
     "ename": "TypeError",
     "evalue": "decodingValoresReaisParaOperacoes() missing 1 required positional argument: 'numeroMaquinas'",
     "output_type": "error",
     "traceback": [
      "\u001b[1;31m---------------------------------------------------------------------------\u001b[0m",
      "\u001b[1;31mTypeError\u001b[0m                                 Traceback (most recent call last)",
      "\u001b[1;32m~\\AppData\\Local\\Temp/ipykernel_7684/277837375.py\u001b[0m in \u001b[0;36m<module>\u001b[1;34m\u001b[0m\n\u001b[0;32m      5\u001b[0m         \u001b[1;33m[\u001b[0m\u001b[0mnewPositionVector\u001b[0m\u001b[1;33m,\u001b[0m \u001b[0mnewVelocityVector\u001b[0m\u001b[1;33m]\u001b[0m \u001b[1;33m=\u001b[0m \u001b[0mparticleSwarmOptimizationMethod\u001b[0m\u001b[1;33m(\u001b[0m\u001b[0mpositionMatrixAux\u001b[0m\u001b[1;33m[\u001b[0m\u001b[0mamostra\u001b[0m\u001b[1;33m]\u001b[0m\u001b[1;33m,\u001b[0m \u001b[0mvelocityMatrixAux\u001b[0m\u001b[1;33m[\u001b[0m\u001b[0mamostra\u001b[0m\u001b[1;33m]\u001b[0m\u001b[1;33m,\u001b[0m \u001b[0mbestPersonalPositionVector\u001b[0m\u001b[1;33m[\u001b[0m\u001b[0mamostra\u001b[0m\u001b[1;33m]\u001b[0m\u001b[1;33m,\u001b[0m \u001b[0mbestGlobalPositionVector\u001b[0m\u001b[1;33m,\u001b[0m \u001b[0mc1\u001b[0m\u001b[1;33m,\u001b[0m \u001b[0mc2\u001b[0m\u001b[1;33m,\u001b[0m \u001b[0mw\u001b[0m\u001b[1;33m)\u001b[0m\u001b[1;33m\u001b[0m\u001b[1;33m\u001b[0m\u001b[0m\n\u001b[0;32m      6\u001b[0m         \u001b[1;31m# Apply decoding funtion to convert real array numbers to operations array\u001b[0m\u001b[1;33m\u001b[0m\u001b[1;33m\u001b[0m\u001b[0m\n\u001b[1;32m----> 7\u001b[1;33m         \u001b[0moperationsConverted\u001b[0m \u001b[1;33m=\u001b[0m \u001b[0mdecodingValoresReaisParaOperacoes\u001b[0m\u001b[1;33m(\u001b[0m\u001b[0mnewPositionVector\u001b[0m\u001b[1;33m,\u001b[0m \u001b[0mdimension\u001b[0m\u001b[1;33m)\u001b[0m\u001b[1;33m\u001b[0m\u001b[1;33m\u001b[0m\u001b[0m\n\u001b[0m\u001b[0;32m      8\u001b[0m         \u001b[1;31m# Evaluate the fitness from operations array found\u001b[0m\u001b[1;33m\u001b[0m\u001b[1;33m\u001b[0m\u001b[0m\n\u001b[0;32m      9\u001b[0m         \u001b[1;33m[\u001b[0m\u001b[0mfitness\u001b[0m\u001b[1;33m,\u001b[0m \u001b[0mfinalMachine\u001b[0m\u001b[1;33m]\u001b[0m \u001b[1;33m=\u001b[0m \u001b[0mfuncaoAptidao\u001b[0m\u001b[1;33m(\u001b[0m\u001b[0moperationsConverted\u001b[0m\u001b[1;33m,\u001b[0m \u001b[0mdadosFormatados\u001b[0m\u001b[1;33m)\u001b[0m\u001b[1;33m\u001b[0m\u001b[1;33m\u001b[0m\u001b[0m\n",
      "\u001b[1;31mTypeError\u001b[0m: decodingValoresReaisParaOperacoes() missing 1 required positional argument: 'numeroMaquinas'"
     ]
    }
   ],
   "source": [
    "\n",
    "# Method Proposed\n",
    "for it in range(0, iterations):\n",
    "    for amostra in range(0, numberOfParticles):\n",
    "        # Run PSO\n",
    "        [newPositionVector, newVelocityVector] = particleSwarmOptimizationMethod(positionMatrixAux[amostra], velocityMatrixAux[amostra], bestPersonalPositionVector[amostra], bestGlobalPositionVector, c1, c2, w)\n",
    "        # Apply decoding funtion to convert real array numbers to operations array\n",
    "        operationsConverted = decodingValoresReaisParaOperacoes(newPositionVector, dimension)\n",
    "        # Evaluate the fitness from operations array found\n",
    "        [fitness, finalMachine] = funcaoAptidao(operationsConverted, dadosFormatados)\n",
    "        # Compare values to update the best fitness\n",
    "        if(fitness < bestPersonalEvaluatedValue[amostra]):\n",
    "            bestPersonalEvaluatedValue[amostra] = fitness\n",
    "        positionMatrixAux[amostra] = newPositionVector\n",
    "        velocityMatrixAux[amostra] = newVelocityVector\n",
    "    indexOfBetterFitness = np.argmin(bestPersonalEvaluatedValue)\n",
    "    bestGlobalPositionVector = candidatePositionMatrix[indexOfBetterFitness]\n",
    "# bestGlobalPositionVector"
   ]
  }
 ],
 "metadata": {
  "interpreter": {
   "hash": "2151bf39a3858786866e37ebb41b7aee912f22b9b75592b06ecf541da4867318"
  },
  "kernelspec": {
   "display_name": "Python 3.9.7 64-bit",
   "name": "python3"
  },
  "language_info": {
   "codemirror_mode": {
    "name": "ipython",
    "version": 3
   },
   "file_extension": ".py",
   "mimetype": "text/x-python",
   "name": "python",
   "nbconvert_exporter": "python",
   "pygments_lexer": "ipython3",
   "version": "3.9.7"
  },
  "orig_nbformat": 4
 },
 "nbformat": 4,
 "nbformat_minor": 2
}
