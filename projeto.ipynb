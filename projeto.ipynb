{
 "cells": [
  {
   "cell_type": "code",
   "execution_count": 1,
   "metadata": {},
   "outputs": [],
   "source": [
    "# Importação das bibliotecas necessárias\n",
    "import numpy as np"
   ]
  },
  {
   "cell_type": "markdown",
   "metadata": {},
   "source": [
    "# 1. Lê o arquivo e pega as dimensões "
   ]
  },
  {
   "cell_type": "code",
   "execution_count": 2,
   "metadata": {},
   "outputs": [],
   "source": [
    "# Transformando os dados\n",
    "def juntaParMaquinaTempoExecução(vetor):\n",
    "    resultado = []\n",
    "    tamanho = len(vetor)\n",
    "    i = 0\n",
    "    while i < tamanho:\n",
    "        resultado.append([vetor[i],vetor[i+1]])\n",
    "        i = i + 2\n",
    "    return resultado\n",
    "\n",
    "def converteArrayEmMatriz(data):\n",
    "    # Converte o array em uma matriz\n",
    "    dadosFormatados = []\n",
    "    for item in data:\n",
    "        dadosFormatados.append(juntaParMaquinaTempoExecução(item.split()))\n",
    "    return dadosFormatados"
   ]
  },
  {
   "cell_type": "code",
   "execution_count": 3,
   "metadata": {},
   "outputs": [],
   "source": [
    "# Função de aptidão\n",
    "def funcaoAptidao(posicaoCandidata, matrizOperacoesTempo):\n",
    "    \"\"\"\n",
    "        Função para avaliar o desempenho do algoritmo\n",
    "            Parâmetros:\n",
    "                - posicaoCandidata: Vetor de N tarefas x M máquinas. Exemplo: [O11, 021,..]\n",
    "                - matrizOperacoesTempo: Matriz N tarefas x M máquinas, onde cada posição é um array contendo a Máquina e seu Tempo. Exemplo: [['1', '20'], ['0', '15'],..]\n",
    "    \"\"\"\n",
    "    numeroTarefas = len(matrizOperacoesTempo)\n",
    "    numeroMaquinas = len(matrizOperacoesTempo[0])\n",
    "    vetorTempoMaquinasEmExecucao = np.zeros(numeroMaquinas)\n",
    "    vetorTarefasEmExecucao = np.zeros(numeroTarefas)\n",
    "    # i[0] -> TAREFA\n",
    "    # i[1] -> OPERACAO\n",
    "    for i in posicaoCandidata:\n",
    "        # print(i[0])\n",
    "        # print(i[1])\n",
    "        # print(matrizOperacoesTempo[int(i[0]) - 1 ][int(i[1]) - 1])\n",
    "        maquina = int(matrizOperacoesTempo[int(i[0]) - 1 ][int(i[1]) - 1][0])\n",
    "        tempoMaquina = int(matrizOperacoesTempo[int(i[0]) - 1][int(i[1]) - 1][1])\n",
    "        tempoAtualAuxiliar = max(vetorTempoMaquinasEmExecucao[maquina - 1], vetorTarefasEmExecucao[int(i[0]) - 1])\n",
    "        vetorTempoMaquinasEmExecucao[maquina - 1] = tempoAtualAuxiliar + tempoMaquina\n",
    "        vetorTarefasEmExecucao[int(i[0]) - 1] = max(vetorTempoMaquinasEmExecucao[maquina - 1], vetorTarefasEmExecucao[int(i[0]) - 1])\n",
    "    return [max(vetorTempoMaquinasEmExecucao), np.argmax(vetorTempoMaquinasEmExecucao) + 1]"
   ]
  },
  {
   "cell_type": "markdown",
   "metadata": {},
   "source": []
  },
  {
   "cell_type": "code",
   "execution_count": null,
   "metadata": {},
   "outputs": [],
   "source": [
    "resultado = [50, 18, 3, 20, 49, 15, 42, 7, 24, 30, 9, 27, 1, 44, 34, 8, 2, 41, 37, 16, 21, 32, 46, 25, 38, 26, 43, 40, 12, 28, 35, 36, 47, 11, 22, 17, 13, 48, 6, 23, 10, 5, 45, 39, 19, 29, 14, 4, 31, 33]\n",
    "[['6', '1'], ['2', '1'], ['1', '1'], ['3', '1'], ['5', '1'], ['2', '2'], ['5', '2'], ['1', '2'], ['3', '2'], ['4', '1'], ['1', '3'], ['3', '3'], ['1', '4'], ['5', '3'], ['4', '2'], ['1', '5'], ['1', '6']]"
   ]
  },
  {
   "cell_type": "code",
   "execution_count": 139,
   "metadata": {},
   "outputs": [
    {
     "data": {
      "text/plain": [
       "9.0"
      ]
     },
     "execution_count": 139,
     "metadata": {},
     "output_type": "execute_result"
    }
   ],
   "source": [
    "np.floor(49/5)"
   ]
  },
  {
   "cell_type": "code",
   "execution_count": 4,
   "metadata": {},
   "outputs": [],
   "source": [
    "# Função de decoding\n",
    "def decodingValoresReaisParaOperacoes(vetorValoresReais, numeroTarefas, numeroMaquinas):\n",
    "    \"\"\"\n",
    "        Função para decodificar um array de valores reais em operações\n",
    "            Parâmetros:\n",
    "                - vetorValoresReais: Vetor com valores reais de dimensão N tarefas x M máquinas. Exemplo: [0.98, 0.11,..]\n",
    "                - numeroTarefas: Número de tarefas do problema. \n",
    "                - numeroMaquinas: Número de máquinas do problema. \n",
    "    \"\"\"\n",
    "    # print(vetorValoresReais)\n",
    "    vetorAuxiliarOrdenado = vetorValoresReais.copy()\n",
    "    vetorAuxiliarOrdenado.sort()\n",
    "    resultado = []\n",
    "    matrizOperacoes = []\n",
    "    for item in vetorValoresReais:\n",
    "        resultado.append(list(vetorAuxiliarOrdenado).index(item) + 1)\n",
    "    # print('resultado: {}'.format(resultado))\n",
    "    countAux = np.ones(numeroTarefas)\n",
    "    for item in resultado:\n",
    "        contaArredondada = round((np.floor((item-1)/ numeroMaquinas)))\n",
    "        matrizOperacoes.append([str(contaArredondada + 1), str(round(countAux[contaArredondada]))])\n",
    "        countAux[contaArredondada] += 1\n",
    "    return matrizOperacoes"
   ]
  },
  {
   "cell_type": "code",
   "execution_count": 5,
   "metadata": {},
   "outputs": [],
   "source": [
    "# Função VND - Shift\n",
    "def VND_shift(posicaoCandidata):\n",
    "    \"\"\"\n",
    "        VND com estrutura de vizinhança Shift (Realoca a posição de uma operação numa mesma máquina)\n",
    "            Parâmetros:\n",
    "                - posicaoCandidata: Vetor com valores reais de dimensão N tarefas x M máquinas. Exemplo: [0.98, 0.11,..]\n",
    "    \"\"\"\n",
    "    # print(posicaoCandidata)\n",
    "    copiaPosicaoCandidata = posicaoCandidata.copy()\n",
    "    [posicaoElementoASerDeslocado, posicaoFutura] = np.random.randint(1, len(copiaPosicaoCandidata), 2)\n",
    "    # print(posicaoElementoASerDeslocado)\n",
    "    # print(posicaoFutura)\n",
    "    elementoASerDeslocado = copiaPosicaoCandidata[posicaoElementoASerDeslocado]\n",
    "    del(copiaPosicaoCandidata[posicaoElementoASerDeslocado])\n",
    "    primeiraParteVetor = copiaPosicaoCandidata[:posicaoFutura]\n",
    "    segundaParteVetor = copiaPosicaoCandidata[posicaoFutura:]\n",
    "    return primeiraParteVetor + [elementoASerDeslocado] + segundaParteVetor\n",
    "    \n",
    "# Função VND - Switch\n",
    "def VND_switch(posicaoCandidata):\n",
    "    \"\"\"\n",
    "        VND com estrutura de vizinhança Switch (Troca a posição de duas operações numa mesma máquina)\n",
    "            Parâmetros:\n",
    "                - posicaoCandidata: Vetor com valores reais de dimensão N tarefas x M máquinas. Exemplo: [0.98, 0.11,..]\n",
    "    \"\"\"\n",
    "    # print(posicaoCandidata)\n",
    "    copiaPosicaoCandidata = posicaoCandidata.copy()\n",
    "    [primeiraPosicao, segundaPosicao] = np.random.randint(1, len(copiaPosicaoCandidata), 2)\n",
    "    # print(primeiraPosicao)\n",
    "    # print(segundaPosicao)\n",
    "    primeiroElemento = copiaPosicaoCandidata[primeiraPosicao]\n",
    "    copiaPosicaoCandidata[primeiraPosicao] = copiaPosicaoCandidata[segundaPosicao]\n",
    "    copiaPosicaoCandidata[segundaPosicao] = primeiroElemento\n",
    "    return copiaPosicaoCandidata\n",
    "\n",
    "# print('VND Switch')\n",
    "# print(VND_switch(posicaoCandidataComValoresReais))\n",
    "\n",
    "# print('')\n",
    "# print('VND Shift')\n",
    "# print(VND_shift(posicaoCandidataComValoresReais))"
   ]
  },
  {
   "cell_type": "code",
   "execution_count": 6,
   "metadata": {},
   "outputs": [],
   "source": [
    "def particleSwarmOptimizationMethod(positionVector, velocityVector, bestPersonal, bestGlobal, c1, c2, w):\n",
    "    \"\"\"\n",
    "        Particle Swarm Optimization Method\n",
    "            Parameters:\n",
    "            - positionVector: Array that contains real values with D positions\n",
    "            - velocityVector: Array that contains real values with D positions\n",
    "            - bestPersonal: Real values array from the best personal position evaluated\n",
    "            - globalPersonal: Real values array from the global personal position evaluated\n",
    "            - c1: Constant\n",
    "            - c2: Constant\n",
    "            - w: Constant\n",
    "    \"\"\"\n",
    "    personalFunction = c1 * np.random.rand() * (bestPersonal - positionVector)\n",
    "    globalFunction = c2 * np.random.rand() * (bestGlobal - positionVector)\n",
    "    nextVelocityVector = w * velocityVector + personalFunction + globalFunction\n",
    "    nextPositionVector = positionVector + nextVelocityVector\n",
    "    return [nextPositionVector, nextVelocityVector]"
   ]
  },
  {
   "cell_type": "code",
   "execution_count": 7,
   "metadata": {},
   "outputs": [
    {
     "name": "stdout",
     "output_type": "stream",
     "text": [
      "Número de tasks:  10\n",
      "Número de máquinas:  5\n"
     ]
    }
   ],
   "source": [
    "with open('./instances/la01.txt') as file:\n",
    "    lines = file.read()\n",
    "\n",
    "dimensions = lines.split('\\n')[0]\n",
    "data = lines.split('\\n')[1:]\n",
    "\n",
    "tasks = int(dimensions.split()[0])\n",
    "machines = int(dimensions.split()[1])\n",
    "print('Número de tasks: ', tasks)\n",
    "print('Número de máquinas: ', machines)"
   ]
  },
  {
   "cell_type": "code",
   "execution_count": 8,
   "metadata": {},
   "outputs": [
    {
     "name": "stdout",
     "output_type": "stream",
     "text": [
      "[[['1', '21'], ['0', '53'], ['4', '95'], ['3', '55'], ['2', '34']], [['0', '21'], ['3', '52'], ['4', '16'], ['2', '26'], ['1', '71']], [['3', '39'], ['4', '98'], ['1', '42'], ['2', '31'], ['0', '12']], [['1', '77'], ['0', '55'], ['4', '79'], ['2', '66'], ['3', '77']], [['0', '83'], ['3', '34'], ['2', '64'], ['1', '19'], ['4', '37']], [['1', '54'], ['2', '43'], ['4', '79'], ['0', '92'], ['3', '62']], [['3', '69'], ['4', '77'], ['1', '87'], ['2', '87'], ['0', '93']], [['2', '38'], ['0', '60'], ['1', '41'], ['3', '24'], ['4', '83']], [['3', '17'], ['1', '49'], ['4', '25'], ['0', '44'], ['2', '98']], [['4', '77'], ['3', '79'], ['2', '43'], ['1', '75'], ['0', '96']]]\n",
      "Tarefa 1: [['1', '21'], ['0', '53'], ['4', '95'], ['3', '55'], ['2', '34']]\n",
      "Tarefa 2: [['0', '21'], ['3', '52'], ['4', '16'], ['2', '26'], ['1', '71']]\n",
      "Tarefa 3: [['3', '39'], ['4', '98'], ['1', '42'], ['2', '31'], ['0', '12']]\n",
      "Tarefa 4: [['1', '77'], ['0', '55'], ['4', '79'], ['2', '66'], ['3', '77']]\n",
      "Tarefa 5: [['0', '83'], ['3', '34'], ['2', '64'], ['1', '19'], ['4', '37']]\n",
      "Tarefa 6: [['1', '54'], ['2', '43'], ['4', '79'], ['0', '92'], ['3', '62']]\n",
      "Tarefa 7: [['3', '69'], ['4', '77'], ['1', '87'], ['2', '87'], ['0', '93']]\n",
      "Tarefa 8: [['2', '38'], ['0', '60'], ['1', '41'], ['3', '24'], ['4', '83']]\n",
      "Tarefa 9: [['3', '17'], ['1', '49'], ['4', '25'], ['0', '44'], ['2', '98']]\n",
      "Tarefa 10: [['4', '77'], ['3', '79'], ['2', '43'], ['1', '75'], ['0', '96']]\n",
      "\n",
      "Exemplo para facilitar o entendimento\n",
      "Tarefa 1: [['1', '21'], ['0', '53'], ['4', '95'], ['3', '55'], ['2', '34']]\n",
      "Tarefa 1 -> Operação 1,1: ['1', '21'] -> Máquina 1 com tempo 21\n",
      "Tarefa 2 -> Operação 1,2: ['0', '53'] -> Máquina 0 com tempo 53\n",
      "Tarefa 3 -> Operação 1,3: ['4', '95'] -> Máquina 4 com tempo 95\n",
      "Tarefa 4 -> Operação 1,4: ['3', '55'] -> Máquina 3 com tempo 55\n",
      "Tarefa 5 -> Operação 1,5: ['2', '34'] -> Máquina 2 com tempo 34\n"
     ]
    }
   ],
   "source": [
    "# Format data and print\n",
    "dadosFormatados = converteArrayEmMatriz(data)\n",
    "print(dadosFormatados)\n",
    "\n",
    "# Printa para ver o resultado\n",
    "for i in range(0, len(dadosFormatados)):\n",
    "    print(\"Tarefa {}: {}\".format(i+1, dadosFormatados[i]))\n",
    "\n",
    "print(\"\")\n",
    "print(\"Exemplo para facilitar o entendimento\")\n",
    "print(\"Tarefa {}: {}\".format(1, dadosFormatados[0]))\n",
    "for i in range(0, len(dadosFormatados[0])):\n",
    "    print(\"Tarefa {} -> Operação 1,{}: {} -> Máquina {} com tempo {}\".format(i+1, i+1, dadosFormatados[0][i], dadosFormatados[0][i][0], dadosFormatados[0][i][1]))"
   ]
  },
  {
   "cell_type": "code",
   "execution_count": 115,
   "metadata": {},
   "outputs": [],
   "source": [
    "# Dados mockados para teste\n",
    "posicaoCandidataTeste = [['1','1'], ['3', '1'], ['2', '1'], ['3', '2'], ['1', '2'], ['2', '2'], ['3', '3'], ['2', '3'], ['1', '3']]\n",
    "matrizOperacoesTempoTeste = [[['1', '2'], ['2', '3'], ['3', '1']], [['2', '3'], ['1', '1'], ['3', '2']], [['2', '2'], ['3', '3'], ['1', '2']]]\n",
    "\n",
    "# Dados mockados para decoding\n",
    "posicaoCandidataComValoresReais = [0.13, 0.75, 0.48, 0.57, 0.21, 0.37, 0.96, 0.42, 0.06]"
   ]
  },
  {
   "cell_type": "code",
   "execution_count": 74,
   "metadata": {},
   "outputs": [
    {
     "name": "stdout",
     "output_type": "stream",
     "text": [
      "Dimensão 50\n"
     ]
    }
   ],
   "source": [
    "# Seta os parâmetros para Teste PSO\n",
    "numberOfParticles = 10\n",
    "dimension = tasks*machines\n",
    "c1 = 2\n",
    "c2 = 2\n",
    "w = 1\n",
    "\n",
    "positionMatrix = np.zeros((numberOfParticles, dimension))\n",
    "velocityMatrix = np.zeros((numberOfParticles, dimension))\n",
    "for i in range(0, numberOfParticles):\n",
    "    positionMatrix[i] = np.random.rand(dimension)\n",
    "    velocityMatrix[i] = np.random.randn(dimension)\n",
    "\n",
    "# print('Vetor Posicao Inicial {} x {}'.format(N, D))\n",
    "# print(candidatePositionMatrix)\n",
    "# print('')\n",
    "# print('Vetor Velocidade Inicial {} x {}'.format(N, D))\n",
    "# print(candidateVelocityMatrix)\n",
    "print('Dimensão {}'.format(dimension))"
   ]
  },
  {
   "cell_type": "code",
   "execution_count": 75,
   "metadata": {},
   "outputs": [
    {
     "name": "stdout",
     "output_type": "stream",
     "text": [
      "iterationChoosen: 0\n",
      "2\n",
      "initial bestGlobalPosition [0.07249107 0.62484526 0.25989014 0.43488189 0.33605972 0.37631938\n",
      " 0.50246587 0.88744176 0.22509938 0.96197623 0.60478161 0.78310106\n",
      " 0.68184208 0.33221958 0.30284987 0.07352757 0.99280935 0.24614674\n",
      " 0.64451839 0.4288697  0.18737834 0.44797527 0.14410151 0.90645727\n",
      " 0.02732065 0.20207556 0.22667973 0.15415384 0.75788225 0.16097754\n",
      " 0.05332747 0.59306678 0.36006383 0.01747478 0.82627566 0.69519849\n",
      " 0.02060111 0.3213578  0.69784302 0.69071953 0.10448134 0.13858622\n",
      " 0.6659052  0.19701341 0.58910358 0.642272   0.20342549 0.18833315\n",
      " 0.30229754 0.02087563]\n",
      "initial fitnessGlobalBestPosition 998.0\n"
     ]
    }
   ],
   "source": [
    "# Number of iterations\n",
    "iterations = 10\n",
    "\n",
    "# Set  \n",
    "positionMatrixAux = positionMatrix\n",
    "velocityMatrixAux = velocityMatrix\n",
    "\n",
    "# Initialize vectors\n",
    "bestPersonalPositionVector = np.zeros((numberOfParticles, dimension))\n",
    "bestPersonalEvaluatedFitness = np.zeros(numberOfParticles)\n",
    "\n",
    "# Get random number for the iteration to apply the VND algorithm \n",
    "iterationChoosen = np.random.randint(iterations)\n",
    "print('iterationChoosen: {}'.format(iterationChoosen))\n",
    "\n",
    "# Set initial values of vectors\n",
    "for i in range(0, numberOfParticles):\n",
    "    bestPersonalPositionVector[i] = positionMatrixAux[i]\n",
    "    # print(bestPersonalPositionVector[i])\n",
    "    decodedArray = decodingValoresReaisParaOperacoes(bestPersonalPositionVector[i], tasks, machines)\n",
    "    # print(decodedArray)\n",
    "    bestPersonalEvaluatedFitness[i] = funcaoAptidao(decodedArray, dadosFormatados)[0]\n",
    "\n",
    "# Find the best fitness value (the smallest value)\n",
    "indexOfBetterFitness = np.argmin(bestPersonalEvaluatedFitness)\n",
    "valueBetterFitness = np.min(bestPersonalEvaluatedFitness)\n",
    "# print(bestPersonalEvaluatedFitness)\n",
    "bestGlobalPositionVector = positionMatrixAux[round(indexOfBetterFitness/50)]\n",
    "\n",
    "decodedArray = decodingValoresReaisParaOperacoes(bestGlobalPositionVector, tasks, machines)\n",
    "fitnessGlobalBestPosition = funcaoAptidao(decodedArray, dadosFormatados)[0]\n",
    "\n",
    "print('initial bestGlobalPosition {}'.format(bestGlobalPositionVector))\n",
    "print('initial fitnessGlobalBestPosition {}'.format(fitnessGlobalBestPosition))\n"
   ]
  },
  {
   "cell_type": "code",
   "execution_count": 76,
   "metadata": {},
   "outputs": [
    {
     "name": "stdout",
     "output_type": "stream",
     "text": [
      "bestGlobalPositionVector: [-1.11904547  0.39001414 -1.8960478   1.56240419 -0.32000675  3.70471598\n",
      " -2.05618384  1.87681795  3.10555005  6.98451038 -1.4520511   3.00175598\n",
      "  1.75745526 -0.65528193 -0.96771053  4.60125064  0.56016797 -4.73273708\n",
      "  2.13633381 -3.17015503  0.65140646  0.84302936  1.91094371 -1.87906894\n",
      "  4.93314011 -0.42563819  1.82366434 -2.98735698 -2.75801661  3.89864132\n",
      "  1.18136258 -2.71040843 -1.36352121  4.90717281  0.39115761  1.48326555\n",
      "  0.79125673  2.11352438  4.02356312  2.09050353 -1.62364507  1.40316785\n",
      " -3.68321562  2.8780365   2.73578533  3.30748541  2.40177667 -0.65211069\n",
      "  1.39672899  1.79192934]\n",
      "fitness bestGlobalPositionVector: 754.0\n"
     ]
    }
   ],
   "source": [
    "\n",
    "# Method Proposed\n",
    "for it in range(0, iterations):\n",
    "    for amostra in range(0, numberOfParticles):\n",
    "\n",
    "        # Apply VND if the iteration is the drawn\n",
    "        if(it == iterationChoosen):\n",
    "            while(fitness >= bestPersonalEvaluatedFitness[amostra]):\n",
    "                newPositionVector = VND_shift(list(newPositionVector))\n",
    "                newPositionVector = VND_switch(list(newPositionVector))\n",
    "                operationsConverted = decodingValoresReaisParaOperacoes(newPositionVector, tasks, machines)\n",
    "                [fitness, finalMachine] = funcaoAptidao(operationsConverted, dadosFormatados)\n",
    "            # Update the value\n",
    "            if(fitness <= bestPersonalEvaluatedFitness[amostra]):\n",
    "                bestPersonalEvaluatedFitness[amostra] = fitness\n",
    "\n",
    "        # Run PSO\n",
    "        [newPositionVector, newVelocityVector] = particleSwarmOptimizationMethod(positionMatrixAux[amostra], velocityMatrixAux[amostra], bestPersonalPositionVector[amostra], bestGlobalPositionVector, c1, c2, w)\n",
    "        # Apply decoding funtion to convert real array numbers to operations array\n",
    "        operationsConverted = decodingValoresReaisParaOperacoes(newPositionVector, tasks, machines)\n",
    "        # Evaluate the fitness from operations array found\n",
    "        [fitness, finalMachine] = funcaoAptidao(operationsConverted, dadosFormatados)\n",
    "        # print('it {} - fitness: {}'.format(it, fitness))\n",
    "        # print('it {} - bestPersonalEvaluatedFitness[amostra = {}]: {}'.format(it, amostra, bestPersonalEvaluatedFitness[amostra]))\n",
    "        # print('')\n",
    "        # Compare values to update the best fitness\n",
    "        if(fitness < bestPersonalEvaluatedFitness[amostra]):\n",
    "            bestPersonalEvaluatedFitness[amostra] = fitness\n",
    "        positionMatrixAux[amostra] = newPositionVector\n",
    "        velocityMatrixAux[amostra] = newVelocityVector\n",
    "    \n",
    "    indexOfBestPersonalFitness = np.argmin(bestPersonalEvaluatedFitness)\n",
    "    bestPersonalFitness = np.min(bestPersonalEvaluatedFitness)\n",
    "    currentBestGlobalPositionVector = positionMatrixAux[indexOfBestPersonalFitness]\n",
    "    # print('index: {}'.format(indexOfBestPersonalFitness))\n",
    "    # print('currentBestGlobalPositionVector: {}'.format(currentBestGlobalPositionVector))\n",
    "\n",
    "    # print('currentbestGlobalPositionFitness {}'.format(bestPersonalEvaluatedFitness))\n",
    "\n",
    "    operationsConverted = decodingValoresReaisParaOperacoes(bestGlobalPositionVector, tasks, machines)\n",
    "    [bestGlobalPositionFitness, finalMachine] = funcaoAptidao(operationsConverted, dadosFormatados)\n",
    "    # print('bestGlobalPositionFitness {}'.format(bestGlobalPositionFitness))\n",
    "    \n",
    "    if(bestPersonalFitness < bestGlobalPositionFitness):\n",
    "        bestGlobalPositionVector = currentBestGlobalPositionVector\n",
    "\n",
    "operationsConverted = decodingValoresReaisParaOperacoes(bestGlobalPositionVector, tasks, machines)\n",
    "[fitness, finalMachine] = funcaoAptidao(operationsConverted, dadosFormatados)\n",
    "\n",
    "print('bestGlobalPositionVector: {}'.format(bestGlobalPositionVector))\n",
    "print('fitness bestGlobalPositionVector: {}'.format(fitness))"
   ]
  }
 ],
 "metadata": {
  "interpreter": {
   "hash": "2151bf39a3858786866e37ebb41b7aee912f22b9b75592b06ecf541da4867318"
  },
  "kernelspec": {
   "display_name": "Python 3.9.7 64-bit",
   "name": "python3"
  },
  "language_info": {
   "codemirror_mode": {
    "name": "ipython",
    "version": 3
   },
   "file_extension": ".py",
   "mimetype": "text/x-python",
   "name": "python",
   "nbconvert_exporter": "python",
   "pygments_lexer": "ipython3",
   "version": "3.9.7"
  },
  "orig_nbformat": 4
 },
 "nbformat": 4,
 "nbformat_minor": 2
}
